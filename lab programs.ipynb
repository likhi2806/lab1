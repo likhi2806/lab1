{
 "cells": [
  {
   "cell_type": "code",
   "execution_count": null,
   "metadata": {},
   "outputs": [],
   "source": []
  },
  {
   "cell_type": "code",
   "execution_count": null,
   "metadata": {},
   "outputs": [],
   "source": []
  },
  {
   "cell_type": "code",
   "execution_count": 17,
   "metadata": {},
   "outputs": [],
   "source": []
  },
  {
   "cell_type": "code",
   "execution_count": 31,
   "metadata": {},
   "outputs": [],
   "source": [
    "import csv\n"
   ]
  },
  {
   "cell_type": "code",
   "execution_count": 32,
   "metadata": {},
   "outputs": [],
   "source": [
    "f = open(\"new.csv\")"
   ]
  },
  {
   "cell_type": "code",
   "execution_count": 33,
   "metadata": {},
   "outputs": [],
   "source": [
    "read = csv.reader(f)\n",
    "n=[]"
   ]
  },
  {
   "cell_type": "code",
   "execution_count": 34,
   "metadata": {},
   "outputs": [],
   "source": [
    "for row in read:\n",
    "    n.append(row)"
   ]
  },
  {
   "cell_type": "code",
   "execution_count": 35,
   "metadata": {},
   "outputs": [
    {
     "data": {
      "text/plain": [
       "[['day', 'sky', 'airtemp', 'humidity', 'wind', 'water', 'forecasty', 'enjoy'],\n",
       " ['1', 'sunny', 'warm', 'normal', 'strong', 'warm', 'same', 'yes'],\n",
       " ['2', 'sunny', 'warm', 'high', 'strong', 'warm', 'same', 'yes'],\n",
       " ['3', 'rainy', 'cool', 'high', 'strong', 'warm', 'change', 'no'],\n",
       " ['4', 'sunny', 'warm', 'high', 'strong', 'cool', 'change', 'yes']]"
      ]
     },
     "execution_count": 35,
     "metadata": {},
     "output_type": "execute_result"
    }
   ],
   "source": [
    "n"
   ]
  },
  {
   "cell_type": "code",
   "execution_count": 36,
   "metadata": {},
   "outputs": [
    {
     "name": "stdout",
     "output_type": "stream",
     "text": [
      "day , sky , airtemp , humidity , wind , water , forecasty , enjoy , \n",
      "1 , sunny , warm , normal , strong , warm , same , yes , \n",
      "2 , sunny , warm , high , strong , warm , same , yes , \n",
      "3 , rainy , cool , high , strong , warm , change , no , \n",
      "4 , sunny , warm , high , strong , cool , change , yes , \n"
     ]
    }
   ],
   "source": [
    "for i in n:\n",
    "    for j in i:\n",
    "        print(j,end=\" , \")\n",
    "    print()\n",
    "    "
   ]
  },
  {
   "cell_type": "code",
   "execution_count": 37,
   "metadata": {},
   "outputs": [
    {
     "data": {
      "text/plain": [
       "[['sunny', 'warm', 'normal', 'strong', 'warm', 'same'],\n",
       " ['sunny', 'warm', 'high', 'strong', 'warm', 'same'],\n",
       " ['rainy', 'cool', 'high', 'strong', 'warm', 'change'],\n",
       " ['sunny', 'warm', 'high', 'strong', 'cool', 'change']]"
      ]
     },
     "execution_count": 37,
     "metadata": {},
     "output_type": "execute_result"
    }
   ],
   "source": [
    "inst = []\n",
    "for i in n:\n",
    "    inst.append(i[1:-1])\n",
    "inst[1:]"
   ]
  },
  {
   "cell_type": "code",
   "execution_count": 38,
   "metadata": {},
   "outputs": [
    {
     "data": {
      "text/plain": [
       "['yes', 'yes', 'no', 'yes']"
      ]
     },
     "execution_count": 38,
     "metadata": {},
     "output_type": "execute_result"
    }
   ],
   "source": [
    "tar = []\n",
    "for i in n:\n",
    "    tar.append(i[-1])\n",
    "tar[1:]"
   ]
  },
  {
   "cell_type": "code",
   "execution_count": 39,
   "metadata": {},
   "outputs": [
    {
     "name": "stdout",
     "output_type": "stream",
     "text": [
      "sunny warm normal strong warm same \n",
      "sunny warm high strong warm same \n",
      "rainy cool high strong warm change \n",
      "sunny warm high strong cool change \n"
     ]
    }
   ],
   "source": [
    "for i in inst[1:]:\n",
    "    for j in i:\n",
    "        print(j,end=\" \")\n",
    "    print()"
   ]
  },
  {
   "cell_type": "code",
   "execution_count": 40,
   "metadata": {},
   "outputs": [
    {
     "name": "stdout",
     "output_type": "stream",
     "text": [
      "yes\n",
      "yes\n",
      "no\n",
      "yes\n"
     ]
    }
   ],
   "source": [
    "for i in tar[1:]:\n",
    "    print(i)"
   ]
  },
  {
   "cell_type": "code",
   "execution_count": 41,
   "metadata": {},
   "outputs": [
    {
     "data": {
      "text/plain": [
       "[['sunny', 'warm', 'normal', 'strong', 'warm', 'same'],\n",
       " ['sunny', 'warm', 'high', 'strong', 'warm', 'same'],\n",
       " ['sunny', 'warm', 'high', 'strong', 'cool', 'change']]"
      ]
     },
     "execution_count": 41,
     "metadata": {},
     "output_type": "execute_result"
    }
   ],
   "source": [
    "h=[]\n",
    "for i in range(len(n)):\n",
    "    if tar[i]=='yes':\n",
    "        h.append(inst[i])\n",
    "h"
   ]
  },
  {
   "cell_type": "code",
   "execution_count": 42,
   "metadata": {},
   "outputs": [
    {
     "name": "stdout",
     "output_type": "stream",
     "text": [
      "sunny\twarm\tnormal\tstrong\twarm\tsame\t\n",
      "sunny\twarm\thigh\tstrong\twarm\tsame\t\n",
      "sunny\twarm\thigh\tstrong\tcool\tchange\t\n"
     ]
    }
   ],
   "source": [
    "for i in h:\n",
    "    for j in i:\n",
    "        print(j,end=\"\\t\")\n",
    "    print()"
   ]
  },
  {
   "cell_type": "code",
   "execution_count": 43,
   "metadata": {},
   "outputs": [
    {
     "data": {
      "text/plain": [
       "['sunny', 'warm', '?', 'strong', '?', '?']"
      ]
     },
     "execution_count": 43,
     "metadata": {},
     "output_type": "execute_result"
    }
   ],
   "source": [
    "hyp=[0,0,0,0,0,0]\n",
    "for i in h:\n",
    "    for j in range(len(i)):\n",
    "        if hyp[j] == 0:\n",
    "            hyp[j]=i[j]\n",
    "        elif hyp[j]==i[j]:\n",
    "            pass\n",
    "        else:\n",
    "            hyp[j]='?'\n",
    "hyp"
   ]
  },
  {
   "cell_type": "code",
   "execution_count": 50,
   "metadata": {},
   "outputs": [],
   "source": [
    "h1=n.copy()"
   ]
  },
  {
   "cell_type": "code",
   "execution_count": 51,
   "metadata": {},
   "outputs": [
    {
     "data": {
      "text/plain": [
       "[['day', 'sky', 'airtemp', 'humidity', 'wind', 'water', 'forecasty', 'enjoy'],\n",
       " ['1', 'sunny', 'warm', 'normal', 'strong', 'warm', 'same', 'yes'],\n",
       " ['2', 'sunny', 'warm', 'high', 'strong', 'warm', 'same', 'yes'],\n",
       " ['3', 'rainy', 'cool', 'high', 'strong', 'warm', 'change', 'no'],\n",
       " ['4', 'sunny', 'warm', 'high', 'strong', 'cool', 'change', 'yes']]"
      ]
     },
     "execution_count": 51,
     "metadata": {},
     "output_type": "execute_result"
    }
   ],
   "source": [
    "h1"
   ]
  },
  {
   "cell_type": "code",
   "execution_count": 78,
   "metadata": {},
   "outputs": [],
   "source": [
    "hn=[]\n",
    "for i in h1[1:]:\n",
    "    i=i[1:]\n",
    "    hn.append(i)"
   ]
  },
  {
   "cell_type": "code",
   "execution_count": 82,
   "metadata": {},
   "outputs": [
    {
     "data": {
      "text/plain": [
       "['sunny', 'warm', '?', 'strong', '?', '?']"
      ]
     },
     "execution_count": 82,
     "metadata": {},
     "output_type": "execute_result"
    }
   ],
   "source": [
    "hyp1=[0,0,0,0,0,0]\n",
    "for i in hn:\n",
    "    if i[-1]!='no':\n",
    "        for j in range(len(i)):\n",
    "            if hyp1[j-1] == 0:\n",
    "                hyp1[j-1]=i[j-1]\n",
    "            elif hyp1[j-1]==i[j-1]:\n",
    "                pass\n",
    "            else:\n",
    "                hyp1[j-1]='?'\n",
    "hyp1"
   ]
  },
  {
   "cell_type": "code",
   "execution_count": 83,
   "metadata": {},
   "outputs": [],
   "source": [
    "h2 = h1.copy()"
   ]
  },
  {
   "cell_type": "code",
   "execution_count": 59,
   "metadata": {},
   "outputs": [
    {
     "data": {
      "text/plain": [
       "[['day', 'sky', 'airtemp', 'humidity', 'wind', 'water', 'forecasty', 'enjoy'],\n",
       " ['1', 'sunny', 'warm', 'normal', 'strong', 'warm', 'same', 'yes'],\n",
       " ['2', 'sunny', 'warm', 'high', 'strong', 'warm', 'same', 'yes'],\n",
       " ['3', 'rainy', 'cool', 'high', 'strong', 'warm', 'change', 'no'],\n",
       " ['4', 'sunny', 'warm', 'high', 'strong', 'cool', 'change', 'yes']]"
      ]
     },
     "execution_count": 59,
     "metadata": {},
     "output_type": "execute_result"
    }
   ],
   "source": [
    "h2"
   ]
  },
  {
   "cell_type": "code",
   "execution_count": 77,
   "metadata": {},
   "outputs": [
    {
     "name": "stdout",
     "output_type": "stream",
     "text": [
      "\n",
      "yes\n",
      "\n",
      "yes\n",
      "\n",
      "no\n",
      "\n",
      "yes\n"
     ]
    }
   ],
   "source": [
    "for i in h2[1:]:\n",
    "    print()\n",
    "    print(i[-1])"
   ]
  },
  {
   "cell_type": "code",
   "execution_count": 79,
   "metadata": {},
   "outputs": [
    {
     "data": {
      "text/plain": [
       "[['sunny', 'warm', 'normal', 'strong', 'warm', 'same', 'yes'],\n",
       " ['sunny', 'warm', 'high', 'strong', 'warm', 'same', 'yes'],\n",
       " ['rainy', 'cool', 'high', 'strong', 'warm', 'change', 'no'],\n",
       " ['sunny', 'warm', 'high', 'strong', 'cool', 'change', 'yes']]"
      ]
     },
     "execution_count": 79,
     "metadata": {},
     "output_type": "execute_result"
    }
   ],
   "source": [
    "hn"
   ]
  },
  {
   "cell_type": "code",
   "execution_count": null,
   "metadata": {},
   "outputs": [],
   "source": []
  }
 ],
 "metadata": {
  "kernelspec": {
   "display_name": "Python 3",
   "language": "python",
   "name": "python3"
  },
  "language_info": {
   "codemirror_mode": {
    "name": "ipython",
    "version": 3
   },
   "file_extension": ".py",
   "mimetype": "text/x-python",
   "name": "python",
   "nbconvert_exporter": "python",
   "pygments_lexer": "ipython3",
   "version": "3.5.6"
  }
 },
 "nbformat": 4,
 "nbformat_minor": 2
}
